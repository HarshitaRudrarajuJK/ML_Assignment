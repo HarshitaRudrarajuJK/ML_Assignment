{
  "nbformat": 4,
  "nbformat_minor": 0,
  "metadata": {
    "colab": {
      "provenance": [],
      "authorship_tag": "ABX9TyO0YH3iNtzvT6CEDB+jhA+v",
      "include_colab_link": true
    },
    "kernelspec": {
      "name": "python3",
      "display_name": "Python 3"
    },
    "language_info": {
      "name": "python"
    }
  },
  "cells": [
    {
      "cell_type": "markdown",
      "metadata": {
        "id": "view-in-github",
        "colab_type": "text"
      },
      "source": [
        "<a href=\"https://colab.research.google.com/github/HarshitaRudrarajuJK/ML_Assignment/blob/main/ML_Assignment_2.ipynb\" target=\"_parent\"><img src=\"https://colab.research.google.com/assets/colab-badge.svg\" alt=\"Open In Colab\"/></a>"
      ]
    },
    {
      "cell_type": "code",
      "execution_count": 3,
      "metadata": {
        "colab": {
          "base_uri": "https://localhost:8080/"
        },
        "id": "wWPlhtWB8Lxt",
        "outputId": "f242faea-2625-463e-e7c6-e544d6a6754c"
      },
      "outputs": [
        {
          "output_type": "stream",
          "name": "stdout",
          "text": [
            "* \n",
            "* * \n",
            "* * * \n",
            "* * * * \n",
            "* * * * * \n",
            "* * * * \n",
            "* * * \n",
            "* * \n",
            "* \n"
          ]
        }
      ],
      "source": [
        "#1\n",
        "#Printing expected pattern\n",
        "for i in range(5):\n",
        "  print('* '*(i+1))\n",
        "for i in range(4,0,-1):\n",
        "  print('* '*(i))"
      ]
    },
    {
      "cell_type": "code",
      "source": [
        "#2 \n",
        "#Printing elements from a provided list present at odd indexes\n",
        "my_list = [10, 20, 30, 40, 50, 60, 70, 80, 90, 100]\n",
        "for i in range(1,len(my_list),2):\n",
        "  print(my_list[i],end=\" \")"
      ],
      "metadata": {
        "colab": {
          "base_uri": "https://localhost:8080/"
        },
        "id": "AFP3_sK785PP",
        "outputId": "5c3e1c47-0ff5-4cf4-a0da-69d41f90033c"
      },
      "execution_count": 6,
      "outputs": [
        {
          "output_type": "stream",
          "name": "stdout",
          "text": [
            "20 40 60 80 100 "
          ]
        }
      ]
    },
    {
      "cell_type": "code",
      "source": [
        "#3\n",
        "#code that appends the type of elements from a given list\n",
        "x = [23, 'Python', 23.98]\n",
        "x.append(input())\n",
        "print(x)\n",
        "t = []\n",
        "for i in x:\n",
        "  t.append(type(i))\n",
        "print(t)"
      ],
      "metadata": {
        "colab": {
          "base_uri": "https://localhost:8080/"
        },
        "id": "4uJ3Edq--NQs",
        "outputId": "fc805510-61fd-46c0-b601-5fb767ce4e1a"
      },
      "execution_count": 10,
      "outputs": [
        {
          "output_type": "stream",
          "name": "stdout",
          "text": [
            "c\n",
            "[23, 'Python', 23.98, 'c']\n",
            "[<class 'int'>, <class 'str'>, <class 'float'>, <class 'str'>]\n"
          ]
        }
      ]
    },
    {
      "cell_type": "code",
      "source": [
        "#4\n",
        "#function that takes a list and returns a new list with unique items of the first list.\n",
        "def unique(list1):\n",
        "  list2=list(set(list1))\n",
        "  return list2\n",
        "\n",
        "list1= [1,2,3,3,3,3,4,5]\n",
        "print(unique(list1))"
      ],
      "metadata": {
        "colab": {
          "base_uri": "https://localhost:8080/"
        },
        "id": "lvoDoOF7_Y-I",
        "outputId": "b57c55ed-faa6-46f5-a815-25dd605acda5"
      },
      "execution_count": 11,
      "outputs": [
        {
          "output_type": "stream",
          "name": "stdout",
          "text": [
            "[1, 2, 3, 4, 5]\n"
          ]
        }
      ]
    },
    {
      "cell_type": "code",
      "source": [
        "#5\n",
        "#function that accepts a string and calculate the number of upper-case letters and lower-case letters\n",
        "def case(Str1):\n",
        "  upper,lower=0,0\n",
        "  for i in Str1:\n",
        "    if(i.isupper()):\n",
        "      upper+=1\n",
        "    elif(i.islower()):\n",
        "      lower+=1\n",
        "  print('No. of Upper-case characters: ',upper)\n",
        "  print('No. of Lower-case characters: ',lower)\n",
        "\n",
        "Str1=input()\n",
        "case(Str1)"
      ],
      "metadata": {
        "colab": {
          "base_uri": "https://localhost:8080/"
        },
        "id": "8n4fdpuQ_-b5",
        "outputId": "0743efb0-6126-424f-eff4-95423dc9cf4f"
      },
      "execution_count": 14,
      "outputs": [
        {
          "output_type": "stream",
          "name": "stdout",
          "text": [
            "The quick Brow Fox\n",
            "No. of Upper-case characters:  3\n",
            "No. of Lower-case characters:  12\n"
          ]
        }
      ]
    }
  ]
}