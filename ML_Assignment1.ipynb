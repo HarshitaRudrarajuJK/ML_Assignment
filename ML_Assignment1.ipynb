{
  "nbformat": 4,
  "nbformat_minor": 0,
  "metadata": {
    "colab": {
      "provenance": [],
      "authorship_tag": "ABX9TyMPDqW4SAlO7AKPI8DuaFH5",
      "include_colab_link": true
    },
    "kernelspec": {
      "name": "python3",
      "display_name": "Python 3"
    },
    "language_info": {
      "name": "python"
    }
  },
  "cells": [
    {
      "cell_type": "markdown",
      "metadata": {
        "id": "view-in-github",
        "colab_type": "text"
      },
      "source": [
        "<a href=\"https://colab.research.google.com/github/HarshitaRudrarajuJK/ML_Assignment/blob/main/ML_Assignment1.ipynb\" target=\"_parent\"><img src=\"https://colab.research.google.com/assets/colab-badge.svg\" alt=\"Open In Colab\"/></a>"
      ]
    },
    {
      "cell_type": "code",
      "execution_count": 3,
      "metadata": {
        "id": "On7cl5ifTtK-",
        "colab": {
          "base_uri": "https://localhost:8080/"
        },
        "outputId": "eb1717d6-bf34-4b98-f4d5-6e2a7363ec5b"
      },
      "outputs": [
        {
          "output_type": "stream",
          "name": "stdout",
          "text": [
            "Sorted list: [19, 19, 20, 22, 24, 24, 24, 25, 25, 26]\n",
            "Min age: 19\n",
            "Max age: 26\n",
            "List after adding min and max:  [19, 19, 19, 20, 22, 24, 24, 24, 25, 25, 26, 26]\n",
            "Median age: 24.0\n",
            "Average age: 22.75\n",
            "Range of the ages: 7\n"
          ]
        }
      ],
      "source": [
        "#Question 1\n",
        "\n",
        "#list of 10 students ages:\n",
        "ages = [19, 22, 19, 24, 20, 25, 26, 24, 25, 24]\n",
        "\n",
        "#Sort the list and find the min and max age\n",
        "#sorting the list\n",
        "ages.sort()\n",
        "print(\"Sorted list:\",ages)\n",
        "#min\n",
        "Min=min(ages)\n",
        "print(\"Min age:\",Min)\n",
        "#max\n",
        "Max=max(ages)\n",
        "print(\"Max age:\",Max)\n",
        "\n",
        "#Add the min age and the max age again to the list\n",
        "ages.insert(0,Min)\n",
        "ages.append(Max)\n",
        "print(\"List after adding min and max: \",ages)\n",
        "\n",
        "#Median age\n",
        "Len=len(ages)\n",
        "print(\"Median age:\",(ages[Len//2]+ages[(Len//2)+1])/2) if (Len%2==0) else (ages[Len//2])\n",
        "\n",
        "#Average age\n",
        "print(\"Average age:\",sum(ages)/Len)\n",
        "\n",
        "#Range of the ages\n",
        "print(\"Range of the ages:\",Max-Min)"
      ]
    },
    {
      "cell_type": "code",
      "source": [
        "#Question 2\n",
        "\n",
        "#Creating an empty dictionary called dog\n",
        "dog=dict()\n",
        "print(\"Empty dog dictionary: \",dog)\n",
        "\n",
        "#Adding name, color, breed, legs, age to the dog dictionary\n",
        "dog[\"name\"]=\"Micky\"\n",
        "dog[\"color\"]=\"Brown\"\n",
        "dog[\"breed\"]=\"Poodle\"\n",
        "dog[\"legs\"]=4\n",
        "dog[\"age\"]=2\n",
        "print(\"After adding elements:\\n\",dog)\n",
        "\n",
        "'''Creating a student dictionary and adding first_name, last_name, gender, \n",
        "age, marital status,skills, country, city and address as keys for the dictionary'''\n",
        "student=dict()\n",
        "student={\"first_name\":\"Harshita\",\"last_name\":\"Rudraraju\",\"gender\":\"Female\",\"age\":23,\"marital status\":\"Single\",\"skills\":[\"python\",\"java\"],\"country\":\"US\",\"City\":\"Overland Park\",\"address\":\"Corbin Park\"}\n",
        "print(\"Student dictionary:\\n\",student)\n",
        "\n",
        "#length of the student dictionary\n",
        "print(\"Length of Student dictionary: \",len(student))\n",
        "\n",
        "#value and datatype of skills\n",
        "print(\"Value of skills: \",student[\"skills\"])\n",
        "print(\"Datatype of skills: \",type(student[\"skills\"]))\n",
        "\n",
        "#Modifying the skills values by adding skills\n",
        "student[\"skills\"].extend([\"C\",\"C++\"])\n",
        "print(\"Modified value of skills: \",student[\"skills\"])\n",
        "\n",
        "#dictionary keys as a list\n",
        "print(\"List of student keys: \",list(student.keys()))\n",
        "\n",
        "#dictionary values as a list\n",
        "print(\"List of student values: \",list(student.values()))"
      ],
      "metadata": {
        "colab": {
          "base_uri": "https://localhost:8080/"
        },
        "id": "TpLDlrhpkPzk",
        "outputId": "ac8324ad-a56d-47f7-c409-7245f446fe79"
      },
      "execution_count": 4,
      "outputs": [
        {
          "output_type": "stream",
          "name": "stdout",
          "text": [
            "Empty dog dictionary:  {}\n",
            "After adding elements:\n",
            " {'name': 'Micky', 'color': 'Brown', 'breed': 'Poodle', 'legs': 4, 'age': 2}\n",
            "Student dictionary:\n",
            " {'first_name': 'Harshita', 'last_name': 'Rudraraju', 'gender': 'Female', 'age': 23, 'marital status': 'Single', 'skills': ['python', 'java'], 'country': 'US', 'City': 'Overland Park', 'address': 'Corbin Park'}\n",
            "Length of Student dictionary:  9\n",
            "Value of skills:  ['python', 'java']\n",
            "Datatype of skills:  <class 'list'>\n",
            "Modified value of skills:  ['python', 'java', 'C', 'C++']\n",
            "List of student keys:  ['first_name', 'last_name', 'gender', 'age', 'marital status', 'skills', 'country', 'City', 'address']\n",
            "List of student values:  ['Harshita', 'Rudraraju', 'Female', 23, 'Single', ['python', 'java', 'C', 'C++'], 'US', 'Overland Park', 'Corbin Park']\n"
          ]
        }
      ]
    },
    {
      "cell_type": "code",
      "source": [
        "#Question 3\n",
        "\n",
        "#Creating a tuple containing names of brothers and sisters\n",
        "brothers=(\"Aman\",\"Akshay\")\n",
        "print(\"Brothers tuple: \",brothers)\n",
        "sisters=(\"Srihita\",\"nihita\")\n",
        "print(\"Sisters tuple: \",sisters)\n",
        "\n",
        "#Joining brothers and sisters tuples into siblings\n",
        "siblings=brothers+sisters\n",
        "print(\"Siblings tuple: \",siblings)\n",
        "\n",
        "#count of siblings\n",
        "print(\"Count of siblings: \",len(siblings))\n",
        "      \n",
        "#Adding father and mother and assigning it to family_members\n",
        "family_members=siblings+(\"Satish\",\"Jaya\")\n",
        "print(\"Family tuple: \",family_members)"
      ],
      "metadata": {
        "id": "lcFhKSr8VyQo",
        "colab": {
          "base_uri": "https://localhost:8080/"
        },
        "outputId": "995f147f-804a-4668-95ab-9ba2a349ed27"
      },
      "execution_count": 5,
      "outputs": [
        {
          "output_type": "stream",
          "name": "stdout",
          "text": [
            "Brothers tuple:  ('Aman', 'Akshay')\n",
            "Sisters tuple:  ('Srihita', 'nihita')\n",
            "Siblings tuple:  ('Aman', 'Akshay', 'Srihita', 'nihita')\n",
            "Count of siblings:  4\n",
            "Family tuple:  ('Aman', 'Akshay', 'Srihita', 'nihita', 'Satish', 'Jaya')\n"
          ]
        }
      ]
    },
    {
      "cell_type": "code",
      "source": [
        "#Question 4\n",
        "\n",
        "it_companies = {'Facebook', 'Google', 'Microsoft', 'Apple', 'IBM', 'Oracle', 'Amazon'} \n",
        "A = {19, 22, 24, 20, 25, 26}\n",
        "B = {19, 22, 20, 25, 26, 24, 28, 27}\n",
        "age = [22, 19, 24, 25, 26, 24, 25, 24]\n",
        "\n",
        "#length of the set it_companies\n",
        "print(\"Length: \",len(it_companies))\n",
        "\n",
        "#Adding 'Twitter' to it_companies\n",
        "it_companies.add('Twitter')\n",
        "print(\"After adding Twitter: \",it_companies)\n",
        "\n",
        "#Inserting multiple IT companies at once to the set it_companies\n",
        "it_companies.update((\"Samsung\",\"Accenture\"))\n",
        "print(\"After inserting multiple IT companies: \",it_companies)\n",
        "\n",
        "#Removing a company from the set it_companies\n",
        "it_companies.remove('Apple')\n",
        "print(\"After removing Apple: \",it_companies)\n",
        "\n",
        "'''difference between remove and discard is that remove method \n",
        "raises a KeyError exception when the specified item is not found in the set\n",
        "but discard method does not raise an exception'''\n",
        "it_companies.discard('Apple')\n",
        "\n",
        "#Joining A and B\n",
        "print(\"Joining A and B: \",A | B)\n",
        "\n",
        "#A intersection B\n",
        "print(\"A intersection B: \",A & B)\n",
        "\n",
        "#checking if A is subset of B\n",
        "print(\"Is A subset of B: \",A.issubset(B))\n",
        "\n",
        "#Are A and B disjoint sets\n",
        "print(\"Are A and B disjoint sets: \",A.isdisjoint(B))\n",
        "\n",
        "#Joining A with B and B with A\n",
        "print(\"Joining A with B and B with A\")\n",
        "print(A|B)\n",
        "print(B|A)\n",
        "\n",
        "#symmetric difference between A and B\n",
        "print(\"Symmetric difference between A and B: \",A ^ B)\n",
        "\n",
        "#Deleting the sets completely\n",
        "del A\n",
        "del B\n",
        "#print(A)\n",
        "\n",
        "#Convert the ages to a set and compare the length of the list and the set\n",
        "print(\"Length of list: \",len(age))\n",
        "print(\"Length of set: \",len(set(age)))\n",
        "#Length of set is less than that of list as there were some duplicate elements in list that were removed when coverted to set"
      ],
      "metadata": {
        "colab": {
          "base_uri": "https://localhost:8080/"
        },
        "id": "Bqu7ZkYmyLRf",
        "outputId": "f35366e2-9f18-4d9f-d913-3ddef137b1ef"
      },
      "execution_count": 1,
      "outputs": [
        {
          "output_type": "stream",
          "name": "stdout",
          "text": [
            "Length:  7\n",
            "After adding Twitter:  {'Twitter', 'Apple', 'Amazon', 'Microsoft', 'IBM', 'Facebook', 'Oracle', 'Google'}\n",
            "After inserting multiple IT companies:  {'Twitter', 'Apple', 'Amazon', 'Microsoft', 'Accenture', 'IBM', 'Samsung', 'Facebook', 'Oracle', 'Google'}\n",
            "After removing Apple:  {'Twitter', 'Amazon', 'Microsoft', 'Accenture', 'IBM', 'Samsung', 'Facebook', 'Oracle', 'Google'}\n",
            "Joining A and B:  {19, 20, 22, 24, 25, 26, 27, 28}\n",
            "A intersection B:  {19, 20, 22, 24, 25, 26}\n",
            "Is A subset of B:  True\n",
            "Are A and B disjoint sets:  False\n",
            "Joining A with B and B with A\n",
            "{19, 20, 22, 24, 25, 26, 27, 28}\n",
            "{19, 20, 22, 24, 25, 26, 27, 28}\n",
            "Symmetric difference between A and B:  {27, 28}\n",
            "Length of list:  8\n",
            "Length of set:  5\n"
          ]
        }
      ]
    },
    {
      "cell_type": "code",
      "source": [
        "#Question 5\n",
        "\n",
        "#The radius of a circle is 30 meters\n",
        "radius=30\n",
        "\n",
        "#Calculating area of circle\n",
        "_area_of_circle_=22/7*(radius**2)\n",
        "print(\"Area of circle: \",round(_area_of_circle_,2))\n",
        "\n",
        "#Calculating the circumference of circle\n",
        "_circum_of_circle_=44/7*radius\n",
        "print(\"Circumference of circle: \",round(_circum_of_circle_,2))\n",
        "\n",
        "#Taking radius as user input and calculating the area\n",
        "radius=int(input(\"Enter the value of radius:\"))\n",
        "_area_of_circle_=22/7*(radius**2)\n",
        "print(\"Area of circle: \",round(_area_of_circle_,2))\n"
      ],
      "metadata": {
        "colab": {
          "base_uri": "https://localhost:8080/"
        },
        "id": "tFkGyga6sVQa",
        "outputId": "86633031-a8b0-4a16-9153-5cf7878c9361"
      },
      "execution_count": 2,
      "outputs": [
        {
          "output_type": "stream",
          "name": "stdout",
          "text": [
            "Area of circle:  2828.57\n",
            "Circumference of circle:  188.57\n",
            "Enter the value of radius:16\n",
            "Area of circle:  804.57\n"
          ]
        }
      ]
    },
    {
      "cell_type": "code",
      "source": [
        "#Question 6\n",
        "\n",
        "sentence=\"I am a teacher and I love to inspire and teach people\"\n",
        "\n",
        "#Count of unique words in the sentence using split and set\n",
        "print(\"Count of unique words: \",len(set(sentence.split(\" \"))))"
      ],
      "metadata": {
        "colab": {
          "base_uri": "https://localhost:8080/"
        },
        "id": "PWJ1pMHWyR_Q",
        "outputId": "5226c129-6d28-458b-b564-3b093b4d6029"
      },
      "execution_count": 3,
      "outputs": [
        {
          "output_type": "stream",
          "name": "stdout",
          "text": [
            "Count of unique words:  10\n"
          ]
        }
      ]
    },
    {
      "cell_type": "code",
      "source": [
        "#Question 7\n",
        "\n",
        "#Using tab escape sequence\n",
        "print(\"Name\\t\\tAge\\tCountry\\t\\tCity\\nAsabeneh\\t250\\tFinland\\t\\tHelsinki\")"
      ],
      "metadata": {
        "colab": {
          "base_uri": "https://localhost:8080/"
        },
        "id": "WFW10Dg90Tjo",
        "outputId": "ab149a87-d736-428d-c9fc-eaf518c36572"
      },
      "execution_count": null,
      "outputs": [
        {
          "output_type": "stream",
          "name": "stdout",
          "text": [
            "Name\t\tAge\tCountry\t\tCity\n",
            "Asabeneh\t250\tFinland\t\tHelsinki\n"
          ]
        }
      ]
    },
    {
      "cell_type": "code",
      "source": [
        "#Question 8\n",
        "\n",
        "radius = 10\n",
        "area = 3.14 * radius ** 2\n",
        "\n",
        "#string formatting\n",
        "print(\"The area of a circle with radius {} is {} meters square.\".format(radius,int(area)))\n",
        "print(\"The area of a circle with radius %d is %d meters square.\" % (radius,area))"
      ],
      "metadata": {
        "colab": {
          "base_uri": "https://localhost:8080/"
        },
        "id": "drr7jHfs0xTO",
        "outputId": "8adbb4cd-9cc1-4926-f4b5-d0177b2b17f7"
      },
      "execution_count": 5,
      "outputs": [
        {
          "output_type": "stream",
          "name": "stdout",
          "text": [
            "The area of a circle with radius 10 is 314 meters square.\n",
            "The area of a circle with radius 10 is 314 meters square.\n"
          ]
        }
      ]
    },
    {
      "cell_type": "code",
      "source": [
        "#Question 9\n",
        "\n",
        "#Write a program, which reads weights (lbs.) of N students into a list and convert these weights to kilograms in a separate list using Loop\n",
        "N=int(input(\"Enter number of students: \"))\n",
        "lbs,kgs=[],[]\n",
        "for i in range(N):\n",
        "  lbs.append(int(input(\"Enter weight: \")))\n",
        "  kgs.append(round(lbs[i]*0.4535,2))\n",
        "print(kgs)"
      ],
      "metadata": {
        "colab": {
          "base_uri": "https://localhost:8080/"
        },
        "id": "KUMzv0at4FVt",
        "outputId": "77de6914-20de-45e3-cd52-e40818fc64b7"
      },
      "execution_count": 6,
      "outputs": [
        {
          "output_type": "stream",
          "name": "stdout",
          "text": [
            "Enter number of students: 4\n",
            "Enter weight: 158\n",
            "Enter weight: 204\n",
            "Enter weight: 138\n",
            "Enter weight: 162\n",
            "[71.65, 92.51, 62.58, 73.47]\n"
          ]
        }
      ]
    },
    {
      "cell_type": "code",
      "source": [],
      "metadata": {
        "id": "mvMxpBNz671A"
      },
      "execution_count": null,
      "outputs": []
    }
  ]
}